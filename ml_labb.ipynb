{
  "nbformat": 4,
  "nbformat_minor": 0,
  "metadata": {
    "colab": {
      "provenance": [],
      "authorship_tag": "ABX9TyNAaBh1uoO0RN+K9/YzoRfa",
      "include_colab_link": true
    },
    "kernelspec": {
      "name": "python3",
      "display_name": "Python 3"
    },
    "language_info": {
      "name": "python"
    }
  },
  "cells": [
    {
      "cell_type": "markdown",
      "metadata": {
        "id": "view-in-github",
        "colab_type": "text"
      },
      "source": [
        "<a href=\"https://colab.research.google.com/github/SrikariMalladi/APSSDC/blob/main/ml_labb.ipynb\" target=\"_parent\"><img src=\"https://colab.research.google.com/assets/colab-badge.svg\" alt=\"Open In Colab\"/></a>"
      ]
    },
    {
      "cell_type": "code",
      "execution_count": 1,
      "metadata": {
        "colab": {
          "base_uri": "https://localhost:8080/"
        },
        "id": "YBYTeFo5XjTh",
        "outputId": "baa7f6eb-f55e-4a1d-b57e-6b52364def1e"
      },
      "outputs": [
        {
          "output_type": "stream",
          "name": "stdout",
          "text": [
            "0    1\n",
            "0    2\n",
            "0    3\n",
            "1    4\n",
            "1    5\n",
            "2    6\n",
            "2    7\n",
            "2    8\n",
            "dtype: object\n"
          ]
        }
      ],
      "source": [
        "import pandas as pd\n",
        "data = pd.Series([[1, 2, 3], [4, 5], [6, 7, 8]])\n",
        "result = data.explode()\n",
        "print(result)\n"
      ]
    },
    {
      "cell_type": "code",
      "source": [
        "import pandas as pd\n",
        "data = pd.Series([10, 20, 30, 40, 50])\n",
        "condition = data > 30\n",
        "subset = data[condition]\n",
        "print(subset)\n"
      ],
      "metadata": {
        "colab": {
          "base_uri": "https://localhost:8080/"
        },
        "id": "dX59MbjuXwTY",
        "outputId": "fa23e80b-5dd5-470a-b73e-fa607577ad44"
      },
      "execution_count": 2,
      "outputs": [
        {
          "output_type": "stream",
          "name": "stdout",
          "text": [
            "3    40\n",
            "4    50\n",
            "dtype: int64\n"
          ]
        }
      ]
    },
    {
      "cell_type": "code",
      "source": [
        "import pandas as pd\n",
        "data = pd.Series([1, 2, 2, 3, 3, 3, 4, 4, 4, 4])\n",
        "most_frequent_value = data.mode()[0]\n",
        "data.loc[data != most_frequent_value] = 'Other'\n",
        "print(data)\n"
      ],
      "metadata": {
        "colab": {
          "base_uri": "https://localhost:8080/"
        },
        "id": "2T50Wz1UX73C",
        "outputId": "f1845e41-8917-4d2c-a3aa-5f31b7c99eed"
      },
      "execution_count": 5,
      "outputs": [
        {
          "output_type": "stream",
          "name": "stdout",
          "text": [
            "0    Other\n",
            "1    Other\n",
            "2    Other\n",
            "3    Other\n",
            "4    Other\n",
            "5    Other\n",
            "6        4\n",
            "7        4\n",
            "8        4\n",
            "9        4\n",
            "dtype: object\n"
          ]
        }
      ]
    },
    {
      "cell_type": "code",
      "source": [
        "import pandas as pd\n",
        "data = pd.Series([1, 5, 10, 15, 20, 25, 30])\n",
        "positions = data[data % 5 == 0].index\n",
        "print(\"Positions of numbers that are multiples of 5:\", positions)\n"
      ],
      "metadata": {
        "colab": {
          "base_uri": "https://localhost:8080/"
        },
        "id": "_s_XK70xaQ92",
        "outputId": "58596177-e4a9-46b7-e002-9b2c32efd476"
      },
      "execution_count": 6,
      "outputs": [
        {
          "output_type": "stream",
          "name": "stdout",
          "text": [
            "Positions of numbers that are multiples of 5: Int64Index([1, 2, 3, 4, 5, 6], dtype='int64')\n"
          ]
        }
      ]
    },
    {
      "cell_type": "code",
      "source": [
        "import pandas as pd\n",
        "data = pd.Series(['apple', 'banana', 'cherry', 'date'])\n",
        "word_lengths = data.str.len()\n",
        "print(word_lengths)\n"
      ],
      "metadata": {
        "colab": {
          "base_uri": "https://localhost:8080/"
        },
        "id": "gU2AQwPfaZBz",
        "outputId": "e5365f90-a68b-4b57-ea9e-084a7042108c"
      },
      "execution_count": 7,
      "outputs": [
        {
          "output_type": "stream",
          "name": "stdout",
          "text": [
            "0    5\n",
            "1    6\n",
            "2    6\n",
            "3    4\n",
            "dtype: int64\n"
          ]
        }
      ]
    },
    {
      "cell_type": "code",
      "source": [
        "import pandas as pd\n",
        "year_month_strings = pd.Series(['2022-01', '2022-02', '2022-03'])\n",
        "day_of_month_to_add = 15\n",
        "dates_with_added_day = pd.to_datetime(year_month_strings + '-' + str(day_of_month_to_add), format='%Y-%m-%d')\n",
        "print(dates_with_added_day)\n"
      ],
      "metadata": {
        "colab": {
          "base_uri": "https://localhost:8080/"
        },
        "id": "kBsO9igqalnK",
        "outputId": "8272cf66-ecae-4497-cb7e-1c63be4ffbc4"
      },
      "execution_count": 8,
      "outputs": [
        {
          "output_type": "stream",
          "name": "stdout",
          "text": [
            "0   2022-01-15\n",
            "1   2022-02-15\n",
            "2   2022-03-15\n",
            "dtype: datetime64[ns]\n"
          ]
        }
      ]
    },
    {
      "cell_type": "code",
      "source": [
        "import pandas as pd\n",
        "data = {\n",
        "    'Name': ['Seekaa', 'cherry', 'deepu'],\n",
        "    'Age': [22, 30, 25],\n",
        "    'City': ['New York', 'Los Angeles', 'Chicago']\n",
        "}\n",
        "index_labels = ['Person1', 'Person2', 'Person3']\n",
        "df = pd.DataFrame(data, index=index_labels)\n",
        "print(df)\n"
      ],
      "metadata": {
        "colab": {
          "base_uri": "https://localhost:8080/"
        },
        "id": "hkOwThbnatyd",
        "outputId": "4a3a098b-5e75-4b96-fa68-427489096144"
      },
      "execution_count": 23,
      "outputs": [
        {
          "output_type": "stream",
          "name": "stdout",
          "text": [
            "           Name  Age         City\n",
            "Person1  Seekaa   22     New York\n",
            "Person2  cherry   30  Los Angeles\n",
            "Person3   deepu   25      Chicago\n"
          ]
        }
      ]
    },
    {
      "cell_type": "code",
      "source": [
        "import pandas as pd\n",
        "data = {\n",
        "    'Student': ['Seekaa', 'cherry', 'deepu', 'Lakshmi'],\n",
        "    'Attempts': [1, 3, 2, 4]\n",
        "}\n",
        "\n",
        "df = pd.DataFrame(data)\n",
        "result = df[df['Attempts'] > 2]\n",
        "print(result)\n"
      ],
      "metadata": {
        "colab": {
          "base_uri": "https://localhost:8080/"
        },
        "id": "Mc6Pn0S2a1d4",
        "outputId": "72eceff5-d0d1-45da-f026-8de2e14c12ee"
      },
      "execution_count": 21,
      "outputs": [
        {
          "output_type": "stream",
          "name": "stdout",
          "text": [
            "   Student  Attempts\n",
            "1   cherry         3\n",
            "3  Lakshmi         4\n"
          ]
        }
      ]
    },
    {
      "cell_type": "code",
      "source": [
        "import pandas as pd\n",
        "data = {\n",
        "    'Name': ['Seekaa', 'cherry', 'deepu'],\n",
        "    'Age': [22, 30, 25],\n",
        "    'City': ['New York', 'Los Angeles', 'Chicago']\n",
        "}\n",
        "\n",
        "df = pd.DataFrame(data)\n",
        "print(\"Original DataFrame:\")\n",
        "print(df)\n",
        "new_row_values = {'Name': 'krishna', 'Age': 28, 'City': 'Seattle'}\n",
        "df = df.append(new_row_values, ignore_index=True)\n",
        "print(\"\\nDataFrame after appending 'k' row:\")\n",
        "print(df)\n",
        "df = df.drop(index=df[df['Name'] == 'Krishna'].index)\n",
        "print(\"\\nOriginal DataFrame after deleting 'k' row:\")\n",
        "print(df)\n"
      ],
      "metadata": {
        "colab": {
          "base_uri": "https://localhost:8080/"
        },
        "id": "ZXt79OFsa-Vo",
        "outputId": "74dd48e9-3d7d-4b3b-cd0e-ab26e7550310"
      },
      "execution_count": 24,
      "outputs": [
        {
          "output_type": "stream",
          "name": "stdout",
          "text": [
            "Original DataFrame:\n",
            "     Name  Age         City\n",
            "0  Seekaa   22     New York\n",
            "1  cherry   30  Los Angeles\n",
            "2   deepu   25      Chicago\n",
            "\n",
            "DataFrame after appending 'k' row:\n",
            "      Name  Age         City\n",
            "0   Seekaa   22     New York\n",
            "1   cherry   30  Los Angeles\n",
            "2    deepu   25      Chicago\n",
            "3  krishna   28      Seattle\n",
            "\n",
            "Original DataFrame after deleting 'k' row:\n",
            "      Name  Age         City\n",
            "0   Seekaa   22     New York\n",
            "1   cherry   30  Los Angeles\n",
            "2    deepu   25      Chicago\n",
            "3  krishna   28      Seattle\n"
          ]
        },
        {
          "output_type": "stream",
          "name": "stderr",
          "text": [
            "<ipython-input-24-4cd8b3fcd3bd>:12: FutureWarning: The frame.append method is deprecated and will be removed from pandas in a future version. Use pandas.concat instead.\n",
            "  df = df.append(new_row_values, ignore_index=True)\n"
          ]
        }
      ]
    },
    {
      "cell_type": "code",
      "source": [
        "import pandas as pd\n",
        "data = {\n",
        "    'Name': ['Seekaa', 'cherry', 'deepu', 'Lakshmi', 'Krishna'],\n",
        "    'Score': [85, 92, 78, 90, 88]\n",
        "}\n",
        "\n",
        "df = pd.DataFrame(data)\n",
        "print(\"Original DataFrame:\")\n",
        "print(df)\n",
        "df_sorted = df.sort_values(by=['Name', 'Score'], ascending=[False, True])\n",
        "print(\"\\nDataFrame after sorting:\")\n",
        "print(df_sorted)\n"
      ],
      "metadata": {
        "colab": {
          "base_uri": "https://localhost:8080/"
        },
        "id": "WVAieI22bKc1",
        "outputId": "e7eeb4f1-241d-44f0-9e50-c1535be971b8"
      },
      "execution_count": 16,
      "outputs": [
        {
          "output_type": "stream",
          "name": "stdout",
          "text": [
            "Original DataFrame:\n",
            "      Name  Score\n",
            "0   Seekaa     85\n",
            "1   cherry     92\n",
            "2    deepu     78\n",
            "3  Lakshmi     90\n",
            "4  Krishna     88\n",
            "\n",
            "DataFrame after sorting:\n",
            "      Name  Score\n",
            "2    deepu     78\n",
            "1   cherry     92\n",
            "0   Seekaa     85\n",
            "3  Lakshmi     90\n",
            "4  Krishna     88\n"
          ]
        }
      ]
    },
    {
      "cell_type": "code",
      "source": [
        "import pandas as pd\n",
        "data = {\n",
        "    'Name': ['Seekaa', 'cherry', 'deepu', 'Lakshmi', 'Krishna'],\n",
        "    'Qualify': ['yes', 'no', 'yes', 'no', 'yes']\n",
        "}\n",
        "\n",
        "df = pd.DataFrame(data)\n",
        "print(\"Original DataFrame:\")\n",
        "print(df)\n",
        "df['Qualify'] = df['Qualify'].replace({'yes': True, 'no': False})\n",
        "print(\"\\nDataFrame after replacing values:\")\n",
        "print(df)\n"
      ],
      "metadata": {
        "colab": {
          "base_uri": "https://localhost:8080/"
        },
        "id": "iVcNLoh4bVc_",
        "outputId": "2a70203b-6475-47d7-9648-0548f736a38d"
      },
      "execution_count": 15,
      "outputs": [
        {
          "output_type": "stream",
          "name": "stdout",
          "text": [
            "Original DataFrame:\n",
            "      Name Qualify\n",
            "0   Seekaa     yes\n",
            "1   cherry      no\n",
            "2    deepu     yes\n",
            "3  Lakshmi      no\n",
            "4  Krishna     yes\n",
            "\n",
            "DataFrame after replacing values:\n",
            "      Name  Qualify\n",
            "0   Seekaa     True\n",
            "1   cherry    False\n",
            "2    deepu     True\n",
            "3  Lakshmi    False\n",
            "4  Krishna     True\n"
          ]
        }
      ]
    },
    {
      "cell_type": "code",
      "source": [
        "import pandas as pd\n",
        "import numpy as np\n",
        "data = {\n",
        "    'A': [1, 2, np.inf, 4, 5],\n",
        "    'B': [np.inf, 8, 9, 10, 11]\n",
        "}\n",
        "\n",
        "df = pd.DataFrame(data)\n",
        "print(\"Original DataFrame:\")\n",
        "print(df)\n",
        "df.replace([np.inf, -np.inf], np.nan, inplace=True)\n",
        "df = df.dropna()\n",
        "print(\"\\nDataFrame after removing infinite values:\")\n",
        "print(df)\n"
      ],
      "metadata": {
        "colab": {
          "base_uri": "https://localhost:8080/"
        },
        "id": "6Z0m47DJbe3x",
        "outputId": "26cdb257-f27b-4d55-cc82-f61b5425f372"
      },
      "execution_count": 14,
      "outputs": [
        {
          "output_type": "stream",
          "name": "stdout",
          "text": [
            "Original DataFrame:\n",
            "     A     B\n",
            "0  1.0   inf\n",
            "1  2.0   8.0\n",
            "2  inf   9.0\n",
            "3  4.0  10.0\n",
            "4  5.0  11.0\n",
            "\n",
            "DataFrame after removing infinite values:\n",
            "     A     B\n",
            "1  2.0   8.0\n",
            "3  4.0  10.0\n",
            "4  5.0  11.0\n"
          ]
        }
      ]
    }
  ]
}